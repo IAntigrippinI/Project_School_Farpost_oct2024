{
 "cells": [
  {
   "cell_type": "code",
   "execution_count": 4,
   "metadata": {},
   "outputs": [],
   "source": [
    "import sqlite3\n",
    "import pandas as pd\n",
    "import numpy as np\n",
    "con = sqlite3.connect(\"dump.db\")\n",
    "cur = con.cursor()\n",
    "UserPath = pd.read_sql(\"select * from UserPath\", con)[:10000]"
   ]
  },
  {
   "cell_type": "code",
   "execution_count": 5,
   "metadata": {},
   "outputs": [],
   "source": [
    "#это дропнуть для нормальной бд\n",
    "new_actions = ['Like', 'Dislike', 'Favourite']\n",
    "all_actions = ['EventShow', 'SuccessPurchase'] + new_actions\n",
    "np.random.seed(42)  \n",
    "random_actions = np.random.choice(all_actions, size=len(UserPath))\n",
    "UserPath['Act'] = random_actions\n",
    "#это дропнуть для нормальной бд"
   ]
  },
  {
   "cell_type": "code",
   "execution_count": 6,
   "metadata": {},
   "outputs": [
    {
     "data": {
      "text/html": [
       "<div>\n",
       "<style scoped>\n",
       "    .dataframe tbody tr th:only-of-type {\n",
       "        vertical-align: middle;\n",
       "    }\n",
       "\n",
       "    .dataframe tbody tr th {\n",
       "        vertical-align: top;\n",
       "    }\n",
       "\n",
       "    .dataframe thead th {\n",
       "        text-align: right;\n",
       "    }\n",
       "</style>\n",
       "<table border=\"1\" class=\"dataframe\">\n",
       "  <thead>\n",
       "    <tr style=\"text-align: right;\">\n",
       "      <th></th>\n",
       "      <th>user_id</th>\n",
       "      <th>event_id</th>\n",
       "      <th>action</th>\n",
       "    </tr>\n",
       "  </thead>\n",
       "  <tbody>\n",
       "    <tr>\n",
       "      <th>0</th>\n",
       "      <td>6eaafef9d6c89ac6f9d894273710e623</td>\n",
       "      <td>93617e256881c731fef1e44d75efd4a7</td>\n",
       "      <td>-1</td>\n",
       "    </tr>\n",
       "    <tr>\n",
       "      <th>1</th>\n",
       "      <td>6eaafef9d6c89ac6f9d894273710e623</td>\n",
       "      <td>263d7f23720cb4c3e49e8f72d4da05a4</td>\n",
       "      <td>0</td>\n",
       "    </tr>\n",
       "    <tr>\n",
       "      <th>2</th>\n",
       "      <td>6eaafef9d6c89ac6f9d894273710e623</td>\n",
       "      <td>1727bc129a45f77c44734f22a4d9ac2a</td>\n",
       "      <td>0</td>\n",
       "    </tr>\n",
       "    <tr>\n",
       "      <th>3</th>\n",
       "      <td>6eaafef9d6c89ac6f9d894273710e623</td>\n",
       "      <td>406d4c53608352ab96fe9757fcaeede5</td>\n",
       "      <td>0</td>\n",
       "    </tr>\n",
       "    <tr>\n",
       "      <th>4</th>\n",
       "      <td>6eaafef9d6c89ac6f9d894273710e623</td>\n",
       "      <td>0f0e98b8568dd945a9b6cf83e36faf0c</td>\n",
       "      <td>0</td>\n",
       "    </tr>\n",
       "    <tr>\n",
       "      <th>...</th>\n",
       "      <td>...</td>\n",
       "      <td>...</td>\n",
       "      <td>...</td>\n",
       "    </tr>\n",
       "    <tr>\n",
       "      <th>31440745</th>\n",
       "      <td>df2d613647d4d0e60ef08375e9f5dc74</td>\n",
       "      <td>c93862bb48de68a74d6c54ca95fad122</td>\n",
       "      <td>0</td>\n",
       "    </tr>\n",
       "    <tr>\n",
       "      <th>31440746</th>\n",
       "      <td>df2d613647d4d0e60ef08375e9f5dc74</td>\n",
       "      <td>e9936d659692a672e05c8a087cf1798a</td>\n",
       "      <td>0</td>\n",
       "    </tr>\n",
       "    <tr>\n",
       "      <th>31440747</th>\n",
       "      <td>df2d613647d4d0e60ef08375e9f5dc74</td>\n",
       "      <td>63964f60a2b6d46dcf4eb262b4a00053</td>\n",
       "      <td>0</td>\n",
       "    </tr>\n",
       "    <tr>\n",
       "      <th>31440748</th>\n",
       "      <td>df2d613647d4d0e60ef08375e9f5dc74</td>\n",
       "      <td>780c239040ca41405505813658d6a6ac</td>\n",
       "      <td>0</td>\n",
       "    </tr>\n",
       "    <tr>\n",
       "      <th>31440749</th>\n",
       "      <td>df2d613647d4d0e60ef08375e9f5dc74</td>\n",
       "      <td>d3bcb9b234cb6b3b115c8f2f7a0c2471</td>\n",
       "      <td>0</td>\n",
       "    </tr>\n",
       "  </tbody>\n",
       "</table>\n",
       "<p>31440750 rows × 3 columns</p>\n",
       "</div>"
      ],
      "text/plain": [
       "                                   user_id                          event_id  \\\n",
       "0         6eaafef9d6c89ac6f9d894273710e623  93617e256881c731fef1e44d75efd4a7   \n",
       "1         6eaafef9d6c89ac6f9d894273710e623  263d7f23720cb4c3e49e8f72d4da05a4   \n",
       "2         6eaafef9d6c89ac6f9d894273710e623  1727bc129a45f77c44734f22a4d9ac2a   \n",
       "3         6eaafef9d6c89ac6f9d894273710e623  406d4c53608352ab96fe9757fcaeede5   \n",
       "4         6eaafef9d6c89ac6f9d894273710e623  0f0e98b8568dd945a9b6cf83e36faf0c   \n",
       "...                                    ...                               ...   \n",
       "31440745  df2d613647d4d0e60ef08375e9f5dc74  c93862bb48de68a74d6c54ca95fad122   \n",
       "31440746  df2d613647d4d0e60ef08375e9f5dc74  e9936d659692a672e05c8a087cf1798a   \n",
       "31440747  df2d613647d4d0e60ef08375e9f5dc74  63964f60a2b6d46dcf4eb262b4a00053   \n",
       "31440748  df2d613647d4d0e60ef08375e9f5dc74  780c239040ca41405505813658d6a6ac   \n",
       "31440749  df2d613647d4d0e60ef08375e9f5dc74  d3bcb9b234cb6b3b115c8f2f7a0c2471   \n",
       "\n",
       "          action  \n",
       "0             -1  \n",
       "1              0  \n",
       "2              0  \n",
       "3              0  \n",
       "4              0  \n",
       "...          ...  \n",
       "31440745       0  \n",
       "31440746       0  \n",
       "31440747       0  \n",
       "31440748       0  \n",
       "31440749       0  \n",
       "\n",
       "[31440750 rows x 3 columns]"
      ]
     },
     "execution_count": 6,
     "metadata": {},
     "output_type": "execute_result"
    }
   ],
   "source": [
    "interaction_matrix = pd.DataFrame(0, index=UserPath['UserID'].unique(), columns=UserPath['EventID'].unique())\n",
    "for _, row in UserPath.iterrows():\n",
    "    if row['Act'] == 'Dislike':\n",
    "        interaction_matrix.loc[row['UserID'], row['EventID']] = -1\n",
    "    elif row['Act'] == 'EventPreBuy':\n",
    "        interaction_matrix.loc[row['UserID'], row['EventID']] = 1\n",
    "    elif row['Act'] == 'Favourite':\n",
    "        interaction_matrix.loc[row['UserID'], row['EventID']] = 2\n",
    "    elif row['Act'] == 'EventPreBuy':\n",
    "        interaction_matrix.loc[row['UserID'], row['EventID']] = 3\n",
    "    elif row['Act'] == 'BuyWithContact':\n",
    "        interaction_matrix.loc[row['UserID'], row['EventID']] = 4\n",
    "    elif row['Act'] == 'Like':\n",
    "        interaction_matrix.loc[row['UserID'], row['EventID']] = 5\n",
    "    elif row['Act'] == 'SuccessPurchase':\n",
    "        interaction_matrix.loc[row['UserID'], row['EventID']] = 6\n",
    "\n",
    "interaction_matrix = interaction_matrix.stack().reset_index()\n",
    "interaction_matrix.columns = ['user_id', 'event_id', 'action']\n",
    "interaction_matrix"
   ]
  },
  {
   "cell_type": "code",
   "execution_count": 7,
   "metadata": {},
   "outputs": [],
   "source": [
    "interaction_matrix = interaction_matrix.pivot_table(index='user_id', columns='event_id', values='action', fill_value=0)"
   ]
  },
  {
   "cell_type": "code",
   "execution_count": 8,
   "metadata": {},
   "outputs": [],
   "source": [
    "from sklearn.preprocessing import StandardScaler\n",
    "sc = StandardScaler()\n",
    "sc_matrix = sc.fit_transform(interaction_matrix)"
   ]
  },
  {
   "cell_type": "code",
   "execution_count": 9,
   "metadata": {},
   "outputs": [],
   "source": [
    "df = pd.DataFrame(sc_matrix, index=interaction_matrix.index, columns=interaction_matrix.columns)"
   ]
  },
  {
   "cell_type": "code",
   "execution_count": 10,
   "metadata": {},
   "outputs": [],
   "source": [
    "def knn(df, user_id, n_recommendations=5, n_similar = 100):\n",
    "    s = {}\n",
    "    \n",
    "    for i in df.index:\n",
    "        if i != user_id: \n",
    "            s[(df.loc[user_id] - df.loc[i]).sum()] = i\n",
    "\n",
    "    similar_users = [user for _, user in sorted(s.items())[:n_similar]]\n",
    "\n",
    "    recommendations = {}\n",
    "    for similar_user in similar_users:\n",
    "        for event_id in df.columns:\n",
    "            if df.loc[user_id][event_id] == 0:  \n",
    "                if event_id not in recommendations:\n",
    "                        recommendations[event_id] = df.loc[similar_user, event_id]\n",
    "                else:\n",
    "                    recommendations[event_id] += df.loc[similar_user, event_id]\n",
    "    recommended_events = sorted(recommendations.items(), key=lambda x: x[1], reverse=True)[:n_recommendations]\n",
    "    \n",
    "    return recommended_events\n"
   ]
  },
  {
   "cell_type": "code",
   "execution_count": 11,
   "metadata": {},
   "outputs": [
    {
     "data": {
      "text/plain": [
       "[('5a730579ebe031843c2cda200a47bb67', np.float64(10.0)),\n",
       " ('4bc94de7bab27a1c3a9cd3ba68199f55', np.float64(8.0)),\n",
       " ('05adf2abceb1050b43f7b96a0f15f4a6', np.float64(6.0)),\n",
       " ('1afba3930b0ec2d4e100f056e20d9d65', np.float64(6.0)),\n",
       " ('1ca1af55d2263e9139ba774ffff9dc0c', np.float64(6.0))]"
      ]
     },
     "execution_count": 11,
     "metadata": {},
     "output_type": "execute_result"
    }
   ],
   "source": [
    "knn(interaction_matrix, '000a1dfe6f4f3018eb805e8115a0b5fc')"
   ]
  },
  {
   "cell_type": "code",
   "execution_count": null,
   "metadata": {},
   "outputs": [],
   "source": []
  }
 ],
 "metadata": {
  "kernelspec": {
   "display_name": "venv",
   "language": "python",
   "name": "python3"
  },
  "language_info": {
   "codemirror_mode": {
    "name": "ipython",
    "version": 3
   },
   "file_extension": ".py",
   "mimetype": "text/x-python",
   "name": "python",
   "nbconvert_exporter": "python",
   "pygments_lexer": "ipython3",
   "version": "3.12.3"
  }
 },
 "nbformat": 4,
 "nbformat_minor": 2
}
